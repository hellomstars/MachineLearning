{
  "cells": [
    {
      "cell_type": "markdown",
      "metadata": {
        "id": "view-in-github",
        "colab_type": "text"
      },
      "source": [
        "<a href=\"https://colab.research.google.com/github/hellomstars/MachineLearning/blob/main/KNN_%EC%95%8C%EA%B3%A0%EB%A6%AC%EC%A6%98.ipynb\" target=\"_parent\"><img src=\"https://colab.research.google.com/assets/colab-badge.svg\" alt=\"Open In Colab\"/></a>"
      ]
    },
    {
      "cell_type": "code",
      "execution_count": null,
      "id": "633a259c",
      "metadata": {
        "id": "633a259c",
        "outputId": "1eed41c9-24d7-4e4e-d780-91f4279a9347"
      },
      "outputs": [
        {
          "name": "stdout",
          "output_type": "stream",
          "text": [
            "[6, 8, 3, 5, 2, 4, 7, 6, 9, 2]\n",
            "[2, 0, 7, 5, 8, 1, 9, 5, 1, 5]\n"
          ]
        }
      ],
      "source": [
        "import numpy as np\n",
        "import matplotlib.pyplot as plt\n",
        "\n",
        "array = [(6,2), (8, 0), (3, 7), (5, 5), (2, 8), (4, 1), (7, 9), (6, 5), (9, 1), (2, 5)]\n",
        "\n",
        "x_array = []\n",
        "y_array = []\n",
        "\n",
        "for i in range(10):\n",
        "    x = array[i][0]\n",
        "    x_array.append(x)\n",
        "    \n",
        "for i in range(10):\n",
        "    y = array[i][1]\n",
        "    y_array.append(y)\n",
        "    \n",
        "print(x_array)\n",
        "print(y_array)"
      ]
    },
    {
      "cell_type": "code",
      "execution_count": null,
      "id": "7828e665",
      "metadata": {
        "id": "7828e665",
        "outputId": "95ca80d2-14dd-4ec0-9e21-36461a3493c5"
      },
      "outputs": [
        {
          "data": {
            "image/png": "[encoded data removed]",
            "text/plain": [
              "<Figure size 432x288 with 1 Axes>"
            ]
          },
          "metadata": {
            "needs_background": "light"
          },
          "output_type": "display_data"
        }
      ],
      "source": [
        "plt.scatter(x_array, y_array)\n",
        "plt.xlabel('x')\n",
        "plt.ylabel('y')\n",
        "plt.show()"
      ]
    },
    {
      "cell_type": "code",
      "execution_count": null,
      "id": "6fa48068",
      "metadata": {
        "id": "6fa48068",
        "outputId": "f50ed962-c520-4299-ec9e-e8e83359915c"
      },
      "outputs": [
        {
          "name": "stdout",
          "output_type": "stream",
          "text": [
            "숫자 두 개 입력?7,5\n",
            "7\n",
            "5\n"
          ]
        }
      ],
      "source": [
        "my_num = input(\"숫자 두 개 입력?\").split(\",\")\n",
        "my_x = int(my_num[0])\n",
        "my_y = int(my_num[1])\n",
        "\n",
        "print(my_x)\n",
        "print(my_y)"
      ]
    },
    {
      "cell_type": "code",
      "execution_count": null,
      "id": "8423b5e0",
      "metadata": {
        "id": "8423b5e0",
        "outputId": "34719909-72cc-420a-a6de-46c445665f75"
      },
      "outputs": [
        {
          "data": {
            "image/png": "[encoded data removed]",
            "text/plain": [
              "<Figure size 432x288 with 1 Axes>"
            ]
          },
          "metadata": {
            "needs_background": "light"
          },
          "output_type": "display_data"
        }
      ],
      "source": [
        "plt.scatter(my_x, my_y)\n",
        "plt.xlabel('x')\n",
        "plt.ylabel('y')\n",
        "plt.show()"
      ]
    },
    {
      "cell_type": "code",
      "execution_count": null,
      "id": "00a00ad9",
      "metadata": {
        "id": "00a00ad9",
        "outputId": "19ba714d-98e1-4585-93c5-1bdf76c052cf"
      },
      "outputs": [
        {
          "data": {
            "image/png": "[encoded data removed]",
            "text/plain": [
              "<Figure size 432x288 with 1 Axes>"
            ]
          },
          "metadata": {
            "needs_background": "light"
          },
          "output_type": "display_data"
        }
      ],
      "source": [
        "plt.scatter(x_array, y_array)\n",
        "plt.scatter(my_x, my_y)\n",
        "plt.xlabel('x')\n",
        "plt.ylabel('y')\n",
        "plt.show()"
      ]
    },
    {
      "cell_type": "code",
      "execution_count": null,
      "id": "fac8857e",
      "metadata": {
        "id": "fac8857e",
        "outputId": "90c6cf8b-1e74-4148-9e14-a0027e355a32"
      },
      "outputs": [
        {
          "name": "stdout",
          "output_type": "stream",
          "text": [
            "[3, 5, 4, 2, 5, 5, 4, 1, 4, 5]\n"
          ]
        }
      ],
      "source": [
        "distance = []\n",
        "for i in range(10):\n",
        "    cal = int(np.sqrt(((x_array[i]-my_x)**2)+((y_array[i]-my_y)**2)))\n",
        "    distance.append(cal)\n",
        "\n",
        "print(distance)"
      ]
    },
    {
      "cell_type": "code",
      "execution_count": null,
      "id": "348c1efc",
      "metadata": {
        "id": "348c1efc",
        "outputId": "1b5125eb-f7c2-4bdf-c545-45cbd41c85ff"
      },
      "outputs": [
        {
          "name": "stdout",
          "output_type": "stream",
          "text": [
            "[[(6, 2), 3], [(8, 0), 5], [(3, 7), 4], [(5, 5), 2], [(2, 8), 5], [(4, 1), 5], [(7, 9), 4], [(6, 5), 1], [(9, 1), 4], [(2, 5), 5]]\n"
          ]
        }
      ],
      "source": [
        "mix_data = [[a,d] for a, d in zip(array, distance)]\n",
        "print(mix_data)"
      ]
    },
    {
      "cell_type": "code",
      "execution_count": null,
      "id": "f988c3fe",
      "metadata": {
        "id": "f988c3fe",
        "outputId": "e8d2ef5d-bd0b-4489-91a0-36adb35bd9d6"
      },
      "outputs": [
        {
          "name": "stdout",
          "output_type": "stream",
          "text": [
            "[[(6, 5), 1], [(5, 5), 2], [(6, 2), 3], [(3, 7), 4], [(7, 9), 4], [(9, 1), 4], [(8, 0), 5], [(2, 8), 5], [(4, 1), 5], [(2, 5), 5]]\n"
          ]
        }
      ],
      "source": [
        "mix_data.sort(key = lambda x:x[1])\n",
        "print(mix_data)"
      ]
    },
    {
      "cell_type": "code",
      "execution_count": null,
      "id": "81c0629e",
      "metadata": {
        "id": "81c0629e",
        "outputId": "5295e364-bc30-458b-91cf-8c3ec7033cdb"
      },
      "outputs": [
        {
          "name": "stdout",
          "output_type": "stream",
          "text": [
            "k 값?2\n",
            "[[(6, 5), 1], [(5, 5), 2]]\n"
          ]
        }
      ],
      "source": [
        "k = int(input(\"k 값?\"))\n",
        "list = []\n",
        "for i in range(k):\n",
        "    list.append(mix_data[i])\n",
        "\n",
        "print(list)"
      ]
    },
    {
      "cell_type": "code",
      "execution_count": null,
      "id": "57dfb274",
      "metadata": {
        "id": "57dfb274",
        "outputId": "e2518a81-c4e3-4d3c-e6c6-0a8d3c9ecef6"
      },
      "outputs": [
        {
          "name": "stdout",
          "output_type": "stream",
          "text": [
            "[(6, 5), (5, 5)]\n"
          ]
        }
      ],
      "source": [
        "result_list = []\n",
        "for i in range(k):\n",
        "    result_list.append(list[i][0])\n",
        "    \n",
        "print(result_list)"
      ]
    },
    {
      "cell_type": "code",
      "execution_count": null,
      "id": "6d943fc4",
      "metadata": {
        "id": "6d943fc4",
        "outputId": "722380fb-79cc-4e7d-b9c1-53237ccc348d"
      },
      "outputs": [
        {
          "name": "stdout",
          "output_type": "stream",
          "text": [
            "[6, 5]\n",
            "[5, 5]\n"
          ]
        }
      ],
      "source": [
        "x_result = []\n",
        "y_result = []\n",
        "\n",
        "for i in range(k):\n",
        "    x_res = result_list[i][0]\n",
        "    x_result.append(x_res)\n",
        "    \n",
        "for i in range(k):\n",
        "    y_res = result_list[i][1]\n",
        "    y_result.append(y_res)\n",
        "    \n",
        "print(x_result)\n",
        "print(y_result)"
      ]
    },
    {
      "cell_type": "code",
      "execution_count": null,
      "id": "eeea9062",
      "metadata": {
        "id": "eeea9062",
        "outputId": "fc7aa139-288a-4a1e-d979-2799e996ddf7"
      },
      "outputs": [
        {
          "data": {
            "image/png": "[encoded data removed]",
            "text/plain": [
              "<Figure size 432x288 with 1 Axes>"
            ]
          },
          "metadata": {
            "needs_background": "light"
          },
          "output_type": "display_data"
        }
      ],
      "source": [
        "plt.scatter(x_array, y_array)\n",
        "plt.scatter(my_x, my_y)\n",
        "plt.scatter(x_result, y_result)\n",
        "plt.xlabel('x')\n",
        "plt.ylabel('y')\n",
        "plt.show()"
      ]
    },
    {
      "cell_type": "code",
      "execution_count": null,
      "id": "3e7db2c9",
      "metadata": {
        "id": "3e7db2c9"
      },
      "outputs": [],
      "source": []
    },
    {
      "cell_type": "code",
      "execution_count": null,
      "id": "4a2ba987",
      "metadata": {
        "id": "4a2ba987",
        "outputId": "41586c9e-eb5e-4704-cdb5-e7049b3d9a2f"
      },
      "outputs": [
        {
          "name": "stdout",
          "output_type": "stream",
          "text": [
            "숫자 두 개 입력? 7,5\n",
            "k 값? 2\n"
          ]
        },
        {
          "data": {
            "image/png": "[encoded data removed]",
            "text/plain": [
              "<Figure size 432x288 with 1 Axes>"
            ]
          },
          "metadata": {
            "needs_background": "light"
          },
          "output_type": "display_data"
        }
      ],
      "source": [
        "import numpy as np\n",
        "import matplotlib.pyplot as plt # 시각화를 위한 라이브러리\n",
        "\n",
        "array = [(6,2), (8, 0), (3, 7), (5, 5), (2, 8), (4, 1), (7, 9), (6, 5), (9, 1), (2, 5)] #2차원 데이터 10개를 tuple로 구성하여 array라는 list에 저장\n",
        "\n",
        "x_array = [] #array 리스트의 튜플 데이터를 각각 x, y값으로 나누기 위해 리스트 생성\n",
        "y_array = []\n",
        "\n",
        "for i in range(10): #10개의 튜플 데이터 x값들을 x_array 리스트에 저장\n",
        "    x = array[i][0]\n",
        "    x_array.append(x)\n",
        "    \n",
        "for i in range(10): #10개의 튜플 데이터 y값들을 y_array 리스트에 저장\n",
        "    y = array[i][1]\n",
        "    y_array.append(y)\n",
        "    \n",
        "my_num = input(\"숫자 두 개 입력? \").split(\",\") # 숫자 2개를 입력 받아 ,를 기준으로 나눈다\n",
        "my_x = int(my_num[0]) #,를 기준으로 나뉜 첫 숫자를 my_x에 int형으로 저장\n",
        "my_y = int(my_num[1]) #,를 기준으로 나뉜 두 번째 숫자를 my_y에 int형으로 저장\n",
        "\n",
        "distance = [] #입력받은 데이터와 기존 10개의 데이터의 거리를 구해 저장하고자 distance 리스트 생성\n",
        "for i in range(10): #거리 공식에 따라 기존 10개의 데이터와 입력된 데이터의 거리를 구해 distance에 저장\n",
        "    cal = int(np.sqrt(((x_array[i]-my_x)**2)+((y_array[i]-my_y)**2)))\n",
        "    distance.append(cal)\n",
        "    \n",
        "mix_data = [[a,d] for a, d in zip(array, distance)] #기존 데이터와 계산한 거리 데이터를 mix_data 리스트로 합친다\n",
        "mix_data.sort(key = lambda x:x[1]) #mix_data의 거리 데이터를 기준으로 오름차순으로 정렬한다\n",
        "\n",
        "\n",
        "k = int(input(\"k 값? \")) #구하고자 하는 k값을 int형으로 입력 받는다\n",
        "list = [] #mix_data에서 k값 만큼의 데이터를 가져오고자 list 생성\n",
        "for i in range(k): #오름차순 된 mix_data 에서 구하고자 입력받은 k값 만큼의 데이터를 list 리스트에 저장\n",
        "    list.append(mix_data[i])\n",
        "    \n",
        "result_list = [] #거리 데이터를 제외한 데이터만을 다시 저장하기 위해 result_list 생성\n",
        "for i in range(k): #k값 만큼의 데이터가 저장된 list에서 거리 데이터를 제외한 array 데이터만을 result_list 리스트에 저장\n",
        "    result_list.append(list[i][0])\n",
        "    \n",
        "x_result = [] #k값 만큼 저장된 array 배열의 x, y 값을 각각 나누기 위해 리스트 생성\n",
        "y_result = []\n",
        "\n",
        "for i in range(k): #저장되어 있는 k개수만큼의 데이터의 x값을 x_result 리스트에 저장\n",
        "    x_res = result_list[i][0]\n",
        "    x_result.append(x_res)\n",
        "    \n",
        "for i in range(k): #저장되어 있는 k개수만큼의 데이터의 y값을 y_result 리스트에 저장\n",
        "    y_res = result_list[i][1]\n",
        "    y_result.append(y_res)\n",
        "    \n",
        "plt.scatter(x_array, y_array) #기존 저장되어 있는 10개 데이터인 array의 산점도\n",
        "plt.scatter(my_x, my_y) #입력받은 데이터인 my_num의 산점도\n",
        "plt.scatter(x_result, y_result) #array에서 거리에 따라 k값만큼의 데이터인 result_list의 산점도\n",
        "plt.xlabel('x') #x축 레이블 표시\n",
        "plt.ylabel('y') #y축 레이블 표시\n",
        "plt.show()"
      ]
    }
  ],
  "metadata": {
    "kernelspec": {
      "display_name": "Python 3 (ipykernel)",
      "language": "python",
      "name": "python3"
    },
    "language_info": {
      "codemirror_mode": {
        "name": "ipython",
        "version": 3
      },
      "file_extension": ".py",
      "mimetype": "text/x-python",
      "name": "python",
      "nbconvert_exporter": "python",
      "pygments_lexer": "ipython3",
      "version": "3.9.12"
    },
    "colab": {
      "provenance": [],
      "include_colab_link": true
    }
  },
  "nbformat": 4,
  "nbformat_minor": 5
}