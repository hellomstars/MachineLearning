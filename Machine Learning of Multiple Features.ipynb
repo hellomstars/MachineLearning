{
  "cells": [
    {
      "cell_type": "markdown",
      "metadata": {
        "id": "view-in-github",
        "colab_type": "text"
      },
      "source": [
        "<a href=\"https://colab.research.google.com/github/hellomstars/MachineLearning/blob/main/Machine%20Learning%20of%20Multiple%20Features.ipynb\" target=\"_parent\"><img src=\"https://colab.research.google.com/assets/colab-badge.svg\" alt=\"Open In Colab\"/></a>"
      ]
    },
    {
      "cell_type": "markdown",
      "id": "4b3209ab",
      "metadata": {
        "id": "4b3209ab"
      },
      "source": [
        "# #3.Machine Learning of Multiple Features\n",
        "### 공부일 수, 끝낸 문제집 수, 사용한 연필 수를 통해 용돈 알아보기"
      ]
    },
    {
      "cell_type": "code",
      "execution_count": null,
      "id": "81194ece",
      "metadata": {
        "id": "81194ece"
      },
      "outputs": [],
      "source": [
        "import pandas as pd\n",
        "import numpy as np"
      ]
    },
    {
      "cell_type": "markdown",
      "id": "8b0461f9",
      "metadata": {
        "id": "8b0461f9"
      },
      "source": [
        "## 데이터셋 생성하기\n",
        "\n",
        "- 난수가 겹치지 않게 각 특성 별로 데이터 100만 개 생성"
      ]
    },
    {
      "cell_type": "code",
      "execution_count": null,
      "id": "d1526bb7",
      "metadata": {
        "id": "d1526bb7",
        "outputId": "fc1bb6c8-0cba-4a30-bef5-718e96a0c8b2"
      },
      "outputs": [
        {
          "name": "stdout",
          "output_type": "stream",
          "text": [
            "1000000 1000000 1000000 1000000\n"
          ]
        }
      ],
      "source": [
        "import random\n",
        "\n",
        "def Random_trait(a,b):\n",
        "    trait_list = []\n",
        "    trait_fin_list = []\n",
        "    trait_set = set()\n",
        "\n",
        "    while len(trait_set) < 1000000: # 최종적으로 난수 데이터들이 모이는 변수 trait_set에 1000000개의 데이터가 있어야한다\n",
        "        for i in range(1000000-len(trait_set)):  #if num not in trait_list -> trait_list.append(num)을 한 결과, 실행시간이 오래걸림\n",
        "            num = round(random.uniform(a,b),4) # a에서 b 숫자 중 소숫점 4자리의 난수를 지정한다\n",
        "            trait_list.append(num) #list에 저장\n",
        "        trait_set = set.union(trait_set, set(trait_list)) #겹치는 숫자를 걸러내기 위해 set함수에 저장한다. list역시 set으로 변환해 저장\n",
        "    trait_fin_list = list(trait_set) #set으로 묶인 데이터들을 다시 list로 묶는다\n",
        "    return sorted(trait_fin_list) #list 안의 데이터를 순차적으로 정리하여 출력\n",
        "\n",
        "Study_day = Random_trait(1,365) #공부한 일 수 출력\n",
        "Fin_book = Random_trait(0,300) #끝낸 책 수 출력\n",
        "Fin_pencil = Random_trait(1,150) #다 쓴 연필 수 출력\n",
        "Allowance = Random_trait(100000,1000000) #용돈 출력\n",
        "\n",
        "print(len(Study_day), len(Fin_book), len(Fin_pencil), len(Allowance)) #난수데이터가 100만개씩 제대로 저장됐나 확인"
      ]
    },
    {
      "cell_type": "markdown",
      "id": "923af2c0",
      "metadata": {
        "id": "923af2c0"
      },
      "source": [
        "- train set, test set 분류"
      ]
    },
    {
      "cell_type": "code",
      "execution_count": null,
      "id": "ea0a293f",
      "metadata": {
        "id": "ea0a293f",
        "outputId": "a6025bd0-ede9-4817-a53c-7e125a271147"
      },
      "outputs": [
        {
          "name": "stdout",
          "output_type": "stream",
          "text": [
            "      day    book  pencil\n",
            "0  1.0002  0.0002  1.0000\n",
            "1  1.0008  0.0011  1.0001\n",
            "2  1.0012  0.0012  1.0003\n",
            "3  1.0020  0.0015  1.0004\n",
            "4  1.0021  0.0017  1.0005\n",
            "5  1.0023  0.0019  1.0006\n",
            "6  1.0024  0.0021  1.0007\n",
            "7  1.0025  0.0023  1.0008\n",
            "8  1.0027  0.0027  1.0009\n",
            "9  1.0028  0.0030  1.0010\n"
          ]
        }
      ],
      "source": [
        "df = pd.DataFrame({'day' : Study_day, 'book' : Fin_book, 'pencil' : Fin_pencil}) #각각의 특성을 dataframe으로 모아서 저장한다\n",
        "print(df.head(10)) #데이터 10개 출력해보기"
      ]
    },
    {
      "cell_type": "code",
      "execution_count": null,
      "id": "214adf3e",
      "metadata": {
        "id": "214adf3e",
        "outputId": "796b667b-af44-4f96-80d7-022649724ea2"
      },
      "outputs": [
        {
          "name": "stdout",
          "output_type": "stream",
          "text": [
            "750000 250000 750000 250000\n"
          ]
        }
      ],
      "source": [
        "from sklearn.model_selection import train_test_split\n",
        "\n",
        "train_input, test_input, train_target, test_target = train_test_split(df, Allowance, random_state=42)\n",
        "print(len(train_input), len(test_input), len(train_target), len(test_target)) #train set, test set이 잘 split 됐나 확인"
      ]
    },
    {
      "cell_type": "markdown",
      "id": "96e7fab6",
      "metadata": {
        "id": "96e7fab6"
      },
      "source": [
        "- 데이터 스케일링"
      ]
    },
    {
      "cell_type": "code",
      "execution_count": null,
      "id": "16545f89",
      "metadata": {
        "id": "16545f89"
      },
      "outputs": [],
      "source": [
        "from sklearn.preprocessing import StandardScaler, MinMaxScaler\n",
        "\n",
        "ss = StandardScaler() #표준화로 scaling\n",
        "ss.fit(train_input)\n",
        "\n",
        "train_ss_scaled = ss.transform(train_input)\n",
        "test_ss_scaled = ss.transform(test_input)"
      ]
    },
    {
      "cell_type": "code",
      "execution_count": null,
      "id": "e6e3cf29",
      "metadata": {
        "id": "e6e3cf29"
      },
      "outputs": [],
      "source": [
        "mm = MinMaxScaler() #정규화로 scaling\n",
        "mm.fit(train_input)\n",
        "\n",
        "train_mm_scaled = mm.transform(train_input)\n",
        "test_mm_scaled = mm.transform(test_input)"
      ]
    },
    {
      "cell_type": "code",
      "execution_count": null,
      "id": "041fc8c0",
      "metadata": {
        "id": "041fc8c0",
        "outputId": "0e720f8d-1b35-4d08-e326-91bafea462ba"
      },
      "outputs": [
        {
          "name": "stdout",
          "output_type": "stream",
          "text": [
            "train set 표준화 후 평균 : -0.0\n",
            "train set 표준화 후 분산 : 1.0\n",
            "\n",
            "test set 표준화 후 평균 : -0.0\n",
            "test set 표준화 후 분산 : 1.0\n",
            "\n",
            "train set 정규화 후 최솟값 : 0.0\n",
            "train set 정규화 후 최댓값 : 1.0\n",
            "\n",
            "test set 정규화 후 최솟값 : -0.0\n",
            "test set 정규화 후 최댓값 : 1.0\n"
          ]
        }
      ],
      "source": [
        "print(f\"train set 표준화 후 평균 : {round(train_ss_scaled.mean(),2)}\")\n",
        "print(f\"train set 표준화 후 분산 : {round(train_ss_scaled.var(),2)}\\n\")\n",
        "\n",
        "print(f\"test set 표준화 후 평균 : {round(test_ss_scaled.mean(),2)}\")\n",
        "print(f\"test set 표준화 후 분산 : {round(test_ss_scaled.var(),2)}\\n\") #표준화 후 평균, 분산이 0,1로 대략 scaling 됨\n",
        "\n",
        "print(f\"train set 정규화 후 최솟값 : {train_mm_scaled.min()}\")\n",
        "print(f\"train set 정규화 후 최댓값 : {train_mm_scaled.max()}\\n\")\n",
        "\n",
        "print(f\"test set 정규화 후 최솟값 : {round(test_mm_scaled.min(),2)}\")\n",
        "print(f\"test set 정규화 후 최댓값 : {round(test_mm_scaled.max(),2)}\") #정규화 후 최솟값, 최댓값이 0,1로 대략 scaling 됨"
      ]
    },
    {
      "cell_type": "markdown",
      "id": "650f7ed5",
      "metadata": {
        "id": "650f7ed5"
      },
      "source": [
        "## 다중 회귀 모델"
      ]
    },
    {
      "cell_type": "code",
      "execution_count": null,
      "id": "e77908ba",
      "metadata": {
        "id": "e77908ba",
        "outputId": "f877ad0c-0cb1-4d85-82db-00c97312090c"
      },
      "outputs": [
        {
          "name": "stdout",
          "output_type": "stream",
          "text": [
            "0.9999987447487687\n",
            "0.9999987412670462\n"
          ]
        }
      ],
      "source": [
        "from sklearn.linear_model import LinearRegression #다중 회귀 모델은 특성이 여러개일 뿐, 선형 회귀 모델 훈련과 같다.\n",
        "\n",
        "lr = LinearRegression()\n",
        "lr.fit(train_input, train_target)\n",
        "print(lr.score(train_input, train_target))\n",
        "print(lr.score(test_input, test_target)) #모델 훈련 결과 train 데이터와 test 데이터의 점수가 거의 완벽하다"
      ]
    },
    {
      "cell_type": "markdown",
      "id": "af5478e3",
      "metadata": {
        "id": "af5478e3"
      },
      "source": [
        "## 릿지 회귀"
      ]
    },
    {
      "cell_type": "markdown",
      "id": "9cfadbb7",
      "metadata": {
        "id": "9cfadbb7"
      },
      "source": [
        "- 표준화 데이터 사용"
      ]
    },
    {
      "cell_type": "code",
      "execution_count": null,
      "id": "6b9e5ce3",
      "metadata": {
        "id": "6b9e5ce3",
        "outputId": "9a44a6b0-7c23-492c-cfbc-c92aff4638e6"
      },
      "outputs": [
        {
          "name": "stdout",
          "output_type": "stream",
          "text": [
            "0.9999987309768107\n",
            "0.9999987283691028\n"
          ]
        }
      ],
      "source": [
        "#계수를 제곱한 값을 기준으로 규제 적용\n",
        "from sklearn.linear_model import Ridge\n",
        "\n",
        "ridge = Ridge()\n",
        "ridge.fit(train_ss_scaled, train_target) #fit() 메서드에서 표준화 된 데이터로 훈련\n",
        "\n",
        "print(ridge.score(train_ss_scaled, train_target)) #score()메서드로 평가\n",
        "print(ridge.score(test_ss_scaled, test_target)) #train 데이터와 test 데이터 모두 좋은 성능을 내고 있다"
      ]
    },
    {
      "cell_type": "code",
      "execution_count": null,
      "id": "26a6bedc",
      "metadata": {
        "id": "26a6bedc",
        "outputId": "53b79f9d-f1b6-404c-d9c1-de9f5ce9ce9e"
      },
      "outputs": [
        {
          "data": {
            "image/png": "[encoded data removed]",
            "text/plain": [
              "<Figure size 432x288 with 1 Axes>"
            ]
          },
          "metadata": {
            "needs_background": "light"
          },
          "output_type": "display_data"
        }
      ],
      "source": [
        "import matplotlib.pyplot as plt\n",
        "\n",
        "train_score = []\n",
        "test_score = []\n",
        "alpha_list = [0.001, 0.01, 0.1, 1, 10, 100] #alpha값으로 규제 강도 조절하여 릿지 모델을 만들 수 있다\n",
        "\n",
        "for alpha in alpha_list:\n",
        "    ridge = Ridge(alpha=alpha) \n",
        "    ridge.fit(train_ss_scaled, train_target) #릿지 모델 훈련\n",
        "    train_score.append(ridge.score(train_ss_scaled, train_target))\n",
        "    test_score.append(ridge.score(test_ss_scaled, test_target))\n",
        "    \n",
        "plt.plot(np.log10(alpha_list), train_score)\n",
        "plt.plot(np.log10(alpha_list), test_score)\n",
        "plt.xlabel('alpha')\n",
        "plt.ylabel('R^2')\n",
        "plt.show() #현재 train 데이터와 test 데이터가 큰 차이 없이 좋은 성능임을 알 수 있다"
      ]
    },
    {
      "cell_type": "markdown",
      "id": "199634f5",
      "metadata": {
        "id": "199634f5"
      },
      "source": [
        "- alpha 값을 바꾼다면?"
      ]
    },
    {
      "cell_type": "code",
      "execution_count": null,
      "id": "493d791a",
      "metadata": {
        "id": "493d791a",
        "outputId": "79c7169f-acfc-4f19-cb08-d4a1e7717a95"
      },
      "outputs": [
        {
          "name": "stdout",
          "output_type": "stream",
          "text": [
            "0.9999987446116828\n",
            "0.9999987412076442\n"
          ]
        }
      ],
      "source": [
        "ridge = Ridge(alpha=0.01) #성능이 전보다는 오히려 안 좋아 짐\n",
        "ridge.fit(train_ss_scaled, train_target)\n",
        "\n",
        "print(ridge.score(train_ss_scaled, train_target))\n",
        "print(ridge.score(test_ss_scaled, test_target))"
      ]
    },
    {
      "cell_type": "markdown",
      "id": "d98247be",
      "metadata": {
        "id": "d98247be"
      },
      "source": [
        "- 정규화 데이터 사용"
      ]
    },
    {
      "cell_type": "code",
      "execution_count": null,
      "id": "02407add",
      "metadata": {
        "id": "02407add",
        "outputId": "7aeb08c0-6a83-4873-a69d-7614e9fc6027"
      },
      "outputs": [
        {
          "name": "stdout",
          "output_type": "stream",
          "text": [
            "0.9999984436494305\n",
            "0.9999984381877656\n"
          ]
        }
      ],
      "source": [
        "ridge = Ridge()\n",
        "ridge.fit(train_mm_scaled, train_target) #fit() 메서드에서 정규화 된 데이터로 훈련\n",
        "\n",
        "print(ridge.score(train_mm_scaled, train_target)) \n",
        "print(ridge.score(test_mm_scaled, test_target))"
      ]
    },
    {
      "cell_type": "code",
      "execution_count": null,
      "id": "41e94ea4",
      "metadata": {
        "id": "41e94ea4",
        "outputId": "26837b37-e162-4ae2-87fd-74201d7b64b0"
      },
      "outputs": [
        {
          "data": {
            "image/png": "[encoded data removed]",
            "text/plain": [
              "<Figure size 432x288 with 1 Axes>"
            ]
          },
          "metadata": {
            "needs_background": "light"
          },
          "output_type": "display_data"
        }
      ],
      "source": [
        "train_score = []\n",
        "test_score = []\n",
        "alpha_list = [0.001, 0.01, 0.1, 1, 10, 100]\n",
        "\n",
        "for alpha in alpha_list:\n",
        "    ridge = Ridge(alpha=alpha)\n",
        "    ridge.fit(train_ss_scaled, train_target)\n",
        "    train_score.append(ridge.score(train_mm_scaled, train_target))\n",
        "    test_score.append(ridge.score(test_mm_scaled, test_target))\n",
        "    \n",
        "plt.plot(np.log10(alpha_list), train_score)\n",
        "plt.plot(np.log10(alpha_list), test_score)\n",
        "plt.xlabel('alpha')\n",
        "plt.ylabel('R^2')\n",
        "plt.show() #현재 train 데이터와 test 데이터가 큰 차이 없이 좋은 성능임을 알 수 있다"
      ]
    },
    {
      "cell_type": "markdown",
      "id": "f5348490",
      "metadata": {
        "id": "f5348490"
      },
      "source": [
        "## 라쏘 회귀"
      ]
    },
    {
      "cell_type": "markdown",
      "id": "354d4552",
      "metadata": {
        "id": "354d4552"
      },
      "source": [
        "- 표준화 데이터 사용"
      ]
    },
    {
      "cell_type": "code",
      "execution_count": null,
      "id": "9c4708b8",
      "metadata": {
        "id": "9c4708b8",
        "outputId": "2a5fbe44-2ab1-4b57-d946-cf226a7c32ac"
      },
      "outputs": [
        {
          "name": "stdout",
          "output_type": "stream",
          "text": [
            "0.9999985041783702\n",
            "0.9999985033851543\n"
          ]
        }
      ],
      "source": [
        "#계수의 절댓값을 기준으로 규제 적용\n",
        "from sklearn.linear_model import Lasso\n",
        "\n",
        "lasso = Lasso()\n",
        "lasso.fit(train_ss_scaled, train_target)\n",
        "print(lasso.score(train_ss_scaled, train_target))\n",
        "print(lasso.score(test_ss_scaled, test_target))"
      ]
    },
    {
      "cell_type": "code",
      "execution_count": null,
      "id": "6a0a7753",
      "metadata": {
        "id": "6a0a7753",
        "outputId": "7ea3c84c-f704-4dc2-e184-6e32e472216b"
      },
      "outputs": [
        {
          "data": {
            "image/png": "[encoded data removed]",
            "text/plain": [
              "<Figure size 432x288 with 1 Axes>"
            ]
          },
          "metadata": {
            "needs_background": "light"
          },
          "output_type": "display_data"
        }
      ],
      "source": [
        "train_score = []\n",
        "test_score = []\n",
        "alpha_list = [0.001, 0.01, 0.1, 1, 10, 100]\n",
        "\n",
        "for alpha in alpha_list:\n",
        "    lasso = Lasso(alpha=alpha, max_iter=10000)\n",
        "    lasso.fit(train_ss_scaled, train_target) # 라쏘 모델 훈련\n",
        "    train_score.append(lasso.score(train_ss_scaled, train_target))\n",
        "    test_score.append(lasso.score(test_ss_scaled, test_target))\n",
        "    \n",
        "plt.plot(np.log10(alpha_list), train_score)\n",
        "plt.plot(np.log10(alpha_list), test_score)\n",
        "plt.xlabel('alpha')\n",
        "plt.ylabel('R^2')\n",
        "plt.show() #현재 train 데이터와 test 데이터가 그래프 상 큰 차이 없음. 가장 오른쪽에서 점수가 크게 떨어짐."
      ]
    },
    {
      "cell_type": "markdown",
      "id": "9f5b1582",
      "metadata": {
        "id": "9f5b1582"
      },
      "source": [
        "- alpha 값을 바꾼다면?"
      ]
    },
    {
      "cell_type": "code",
      "execution_count": null,
      "id": "e8f690f5",
      "metadata": {
        "id": "e8f690f5",
        "outputId": "bb18ea8b-a997-4aab-aab1-d47c8015c5ed"
      },
      "outputs": [
        {
          "name": "stdout",
          "output_type": "stream",
          "text": [
            "0.9999983565048424\n",
            "0.9999983533436895\n"
          ]
        }
      ],
      "source": [
        "lasso = Lasso(alpha=100) # alpha 값을 100으로 올리니 전보다 성능 나빠짐\n",
        "lasso.fit(train_ss_scaled, train_target)\n",
        "\n",
        "print(lasso.score(train_ss_scaled, train_target)) #모델 최적의 alpha = 1, 즉 10.\n",
        "print(lasso.score(test_ss_scaled, test_target))"
      ]
    },
    {
      "cell_type": "markdown",
      "id": "feee324d",
      "metadata": {
        "id": "feee324d"
      },
      "source": [
        "- 정규화 데이터 사용"
      ]
    },
    {
      "cell_type": "code",
      "execution_count": null,
      "id": "e568817f",
      "metadata": {
        "id": "e568817f",
        "outputId": "28cdfcf1-fc9e-44e0-ad90-5039344a8c9f"
      },
      "outputs": [
        {
          "name": "stdout",
          "output_type": "stream",
          "text": [
            "0.9999967294791049\n",
            "0.999996720431553\n"
          ]
        }
      ],
      "source": [
        "lasso = Lasso()\n",
        "lasso.fit(train_mm_scaled, train_target)\n",
        "\n",
        "print(lasso.score(train_mm_scaled, train_target))\n",
        "print(lasso.score(test_mm_scaled, test_target))"
      ]
    },
    {
      "cell_type": "code",
      "execution_count": null,
      "id": "98538255",
      "metadata": {
        "id": "98538255",
        "outputId": "b1311c71-db60-433c-f56e-f11797f3cd87"
      },
      "outputs": [
        {
          "data": {
            "image/png": "[encoded data removed]",
            "text/plain": [
              "<Figure size 432x288 with 1 Axes>"
            ]
          },
          "metadata": {
            "needs_background": "light"
          },
          "output_type": "display_data"
        }
      ],
      "source": [
        "train_score = []\n",
        "test_score = []\n",
        "\n",
        "alpha_list = [0.001, 0.01, 0.1, 1, 10, 100]\n",
        "for alpha in alpha_list:\n",
        "    lasso = Lasso(alpha=alpha, max_iter=10000) \n",
        "    lasso.fit(train_mm_scaled, train_target) # 라쏘 모델을 훈련합니다\n",
        "    train_score.append(lasso.score(train_mm_scaled, train_target))\n",
        "    test_score.append(lasso.score(test_mm_scaled, test_target))\n",
        "    \n",
        "plt.plot(np.log10(alpha_list), train_score)\n",
        "plt.plot(np.log10(alpha_list), test_score)\n",
        "plt.xlabel('alpha')\n",
        "plt.ylabel('R^2')\n",
        "plt.show() #현재 train 데이터와 test 데이터가 그래프 상 큰 차이 없음."
      ]
    },
    {
      "cell_type": "markdown",
      "id": "edeb72f3",
      "metadata": {
        "id": "edeb72f3"
      },
      "source": [
        "- alpha 값을 바꾼다면?"
      ]
    },
    {
      "cell_type": "code",
      "execution_count": null,
      "id": "4ae24df0",
      "metadata": {
        "id": "4ae24df0",
        "outputId": "59d98ec9-9c4e-4fa8-dc58-4ff9268692e9"
      },
      "outputs": [
        {
          "name": "stdout",
          "output_type": "stream",
          "text": [
            "0.9999985041904702\n",
            "0.9999985034207496\n"
          ]
        }
      ],
      "source": [
        "lasso = Lasso(alpha=1/1000)\n",
        "lasso.fit(train_mm_scaled, train_target)\n",
        "\n",
        "print(lasso.score(train_mm_scaled, train_target))\n",
        "print(lasso.score(test_mm_scaled, test_target))"
      ]
    }
  ],
  "metadata": {
    "kernelspec": {
      "display_name": "Python 3 (ipykernel)",
      "language": "python",
      "name": "python3"
    },
    "language_info": {
      "codemirror_mode": {
        "name": "ipython",
        "version": 3
      },
      "file_extension": ".py",
      "mimetype": "text/x-python",
      "name": "python",
      "nbconvert_exporter": "python",
      "pygments_lexer": "ipython3",
      "version": "3.9.12"
    },
    "colab": {
      "provenance": [],
      "include_colab_link": true
    }
  },
  "nbformat": 4,
  "nbformat_minor": 5
}